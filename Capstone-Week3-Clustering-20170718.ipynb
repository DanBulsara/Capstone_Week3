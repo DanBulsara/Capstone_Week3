{
 "cells": [
  {
   "cell_type": "code",
   "execution_count": 1,
   "metadata": {
    "collapsed": true
   },
   "outputs": [],
   "source": [
    "from pyspark.sql import SQLContext\n",
    "from pyspark.ml.clustering import KMeans\n",
    "from pyspark.ml.feature import VectorAssembler\n",
    "from pyspark.ml.feature import StandardScaler"
   ]
  },
  {
   "cell_type": "code",
   "execution_count": 2,
   "metadata": {
    "collapsed": true
   },
   "outputs": [],
   "source": [
    "sqlContext = SQLContext(sc)\n",
    "data = sqlContext.read.load('file:///home/cloudera/combined-data-custom4.csv', \n",
    "                          format='com.databricks.spark.csv', \n",
    "                          header='true',inferSchema='true')"
   ]
  },
  {
   "cell_type": "code",
   "execution_count": 3,
   "metadata": {
    "collapsed": false
   },
   "outputs": [
    {
     "data": {
      "text/plain": [
       "4619"
      ]
     },
     "execution_count": 3,
     "metadata": {},
     "output_type": "execute_result"
    }
   ],
   "source": [
    "data.count()"
   ]
  },
  {
   "cell_type": "code",
   "execution_count": 4,
   "metadata": {
    "collapsed": true
   },
   "outputs": [],
   "source": [
    "dataAndroid=data.filter(data.platformType=='android')"
   ]
  },
  {
   "cell_type": "code",
   "execution_count": 5,
   "metadata": {
    "collapsed": false
   },
   "outputs": [
    {
     "data": {
      "text/plain": [
       "1635"
      ]
     },
     "execution_count": 5,
     "metadata": {},
     "output_type": "execute_result"
    }
   ],
   "source": [
    "dataAndroid.count()"
   ]
  },
  {
   "cell_type": "code",
   "execution_count": 8,
   "metadata": {
    "collapsed": false
   },
   "outputs": [
    {
     "data": {
      "text/plain": [
       "DataFrame[userId: int, userSessionId: int, teamLevel: int, platformType: string, count_gameclicks: int, gameclicks_category: string, count_hits: int, hits_percent: int, hits_percent_category: string, count_buyId: int, avg_price: double, total_buy: double, buy_category: string]"
      ]
     },
     "execution_count": 8,
     "metadata": {},
     "output_type": "execute_result"
    }
   ],
   "source": [
    "dataAndroid"
   ]
  },
  {
   "cell_type": "code",
   "execution_count": 9,
   "metadata": {
    "collapsed": false
   },
   "outputs": [
    {
     "name": "stdout",
     "output_type": "stream",
     "text": [
      "+------+-------------+---------+------------+----------------+-------------------+----------+------------+---------------------+-----------+---------+---------+---------------+\n",
      "|userId|userSessionId|teamLevel|platformType|count_gameclicks|gameclicks_category|count_hits|hits_percent|hits_percent_category|count_buyId|avg_price|total_buy|   buy_category|\n",
      "+------+-------------+---------+------------+----------------+-------------------+----------+------------+---------------------+-----------+---------+---------+---------------+\n",
      "|   812|         5648|        1|     android|              69|                Low|         8|          12|               Medium|          0|      0.0|      0.0|    NonSpenders|\n",
      "|  1863|         5651|        1|     android|              35|                Low|         4|          11|               Medium|          0|      0.0|      0.0|    NonSpenders|\n",
      "|   937|         5652|        1|     android|              39|                Low|         0|           0|                 Zero|          1|      1.0|      1.0|ThriftySpenders|\n",
      "|   342|         5653|        1|     android|              36|                Low|         5|          14|               Medium|          0|      0.0|      0.0|    NonSpenders|\n",
      "|  2203|         5656|        1|     android|              68|                Low|         6|           9|                  Low|          0|      0.0|      0.0|    NonSpenders|\n",
      "+------+-------------+---------+------------+----------------+-------------------+----------+------------+---------------------+-----------+---------+---------+---------------+\n",
      "only showing top 5 rows\n",
      "\n"
     ]
    }
   ],
   "source": [
    "dataAndroid.show(5)"
   ]
  },
  {
   "cell_type": "code",
   "execution_count": 11,
   "metadata": {
    "collapsed": false
   },
   "outputs": [],
   "source": [
    "dataAndroid_cluster=dataAndroid['count_gameclicks','count_hits', 'count_buyId']"
   ]
  },
  {
   "cell_type": "code",
   "execution_count": 12,
   "metadata": {
    "collapsed": false
   },
   "outputs": [
    {
     "data": {
      "text/plain": [
       "DataFrame[count_gameclicks: int, count_hits: int, count_buyId: int]"
      ]
     },
     "execution_count": 12,
     "metadata": {},
     "output_type": "execute_result"
    }
   ],
   "source": [
    "dataAndroid_cluster"
   ]
  },
  {
   "cell_type": "code",
   "execution_count": 14,
   "metadata": {
    "collapsed": false
   },
   "outputs": [
    {
     "name": "stdout",
     "output_type": "stream",
     "text": [
      "+----------------+----------+-----------+\n",
      "|count_gameclicks|count_hits|count_buyId|\n",
      "+----------------+----------+-----------+\n",
      "|              69|         8|          0|\n",
      "|              35|         4|          0|\n",
      "|              39|         0|          1|\n",
      "|              36|         5|          0|\n",
      "|              68|         6|          0|\n",
      "+----------------+----------+-----------+\n",
      "only showing top 5 rows\n",
      "\n"
     ]
    }
   ],
   "source": [
    "dataAndroid_cluster.show(5)"
   ]
  },
  {
   "cell_type": "code",
   "execution_count": 21,
   "metadata": {
    "collapsed": false
   },
   "outputs": [
    {
     "data": {
      "text/plain": [
       "1635"
      ]
     },
     "execution_count": 21,
     "metadata": {},
     "output_type": "execute_result"
    }
   ],
   "source": [
    "dataAndroid_cluster.count()"
   ]
  },
  {
   "cell_type": "code",
   "execution_count": 22,
   "metadata": {
    "collapsed": true
   },
   "outputs": [],
   "source": [
    "featuresUsed = ['count_gameclicks','count_hits', 'count_buyId']\n",
    "assembler = VectorAssembler(inputCols=featuresUsed, outputCol=\"features_unscaled\")\n",
    "assembled = assembler.transform(dataAndroid_cluster)"
   ]
  },
  {
   "cell_type": "code",
   "execution_count": 23,
   "metadata": {
    "collapsed": true
   },
   "outputs": [],
   "source": [
    "scaler = StandardScaler(inputCol=\"features_unscaled\", outputCol=\"features\", withStd=True, withMean=True)\n",
    "scalerModel = scaler.fit(assembled)\n",
    "scaledData = scalerModel.transform(assembled)"
   ]
  },
  {
   "cell_type": "code",
   "execution_count": 24,
   "metadata": {
    "collapsed": false
   },
   "outputs": [
    {
     "data": {
      "text/plain": [
       "DataFrame[features: vector]"
      ]
     },
     "execution_count": 24,
     "metadata": {},
     "output_type": "execute_result"
    }
   ],
   "source": [
    "scaledData = scaledData.select(\"features\")\n",
    "scaledData.persist()"
   ]
  },
  {
   "cell_type": "code",
   "execution_count": 26,
   "metadata": {
    "collapsed": true
   },
   "outputs": [],
   "source": [
    "kmeans = KMeans(k=3, seed=1)\n",
    "model = kmeans.fit(scaledData)\n",
    "transformed = model.transform(scaledData)"
   ]
  },
  {
   "cell_type": "code",
   "execution_count": 27,
   "metadata": {
    "collapsed": false
   },
   "outputs": [
    {
     "data": {
      "text/plain": [
       "[array([-0.3138125 , -0.316014  , -0.34749399]),\n",
       " array([-0.2368066 , -0.20691153,  2.14100964]),\n",
       " array([ 2.1939005 ,  2.17502569, -0.18019905])]"
      ]
     },
     "execution_count": 27,
     "metadata": {},
     "output_type": "execute_result"
    }
   ],
   "source": [
    "centers = model.clusterCenters()\n",
    "centers"
   ]
  },
  {
   "cell_type": "code",
   "execution_count": null,
   "metadata": {
    "collapsed": true
   },
   "outputs": [],
   "source": []
  }
 ],
 "metadata": {
  "kernelspec": {
   "display_name": "Python 3",
   "language": "python",
   "name": "python3"
  },
  "language_info": {
   "codemirror_mode": {
    "name": "ipython",
    "version": 3
   },
   "file_extension": ".py",
   "mimetype": "text/x-python",
   "name": "python",
   "nbconvert_exporter": "python",
   "pygments_lexer": "ipython3",
   "version": "3.5.1"
  }
 },
 "nbformat": 4,
 "nbformat_minor": 0
}
